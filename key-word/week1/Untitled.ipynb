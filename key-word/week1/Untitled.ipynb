{
 "cells": [
  {
   "cell_type": "markdown",
   "metadata": {},
   "source": [
    "# Week1 Key word by 흥\n",
    "## 1) Hedge Funds - Private Equity Funds\n",
    "### 둘은 여러 투자자들로부터 자금을 모아서 투자를 하고, 수익을 투자자들에게 분배하는 펀드로서의 기본 성질은 동일. 그러나 투자 목적이 다르고, 이로부터 파생되는 여러 차이들이 있음.\n",
    "### Hedge Funds(헤지펀드)\n",
    "- Short-term investment<br>\n",
    " -> 목표가 단기간에 고수익을 취하는 것. 즉, 단기수익 극대화\n",
    "- Liquid assets<br>\n",
    " -> 유동성이 높은 자산에 주로 투자. 주식에 극한되지 않고, 기타 자산, 채권, 통화, 파생상품 등 다양\n",
    "- Open-end<br>\n",
    " -> 유동성이 높은 만큼 중간에 참가/가입, 탈퇴/해지 가 비교석 쉬움\n",
    "- No duration<br>\n",
    " -> 통상 펀드 자체의 존속기간이 특별히 없음\n",
    "\n",
    "### Private Equity Funds(사모펀드)\n",
    "- Long-term investment<br>\n",
    " -> 상대적으로 장기 수익 도모\n",
    "- Illiquid assets<br>\n",
    " -> 주로 사업회사의 지분증권에 투자, 투자대상이 비상장 주식인 경우가 많고, 상장회사 주식이라 해도 지분규모나 증권법에 따른 규제 등으로 처분상의 제약이 있어, 유동성이 떨어짐\n",
    "- Close-end<br>\n",
    " -> 펀드가 조성되고 나면 그 이후 투자자의 참가 및 탈괴가 비교적 어려움\n",
    "- Duration<br>\n",
    " -> 대신 존속기간(가녕 10년 등)이 정해져서 일정기간 후 청산을 하여 투자금을 분배\n",
    " \n",
    "## 2) Sharpe Ratio\n",
    "### 스탠포드 대학의 윌리엄 샤프 명예교수가 창안한 개념\n",
    "- 위험과 수익률을 함께 평가하는 다양한 지표들 중 대표적인 것\n",
    "- (현재 펀드의 수익률 - 무위험 수익률) / (해당 펀드의 표준편차)\n",
    "- 무위험 수익률이란 말그대로 위험이 없는 수익률. 이런 수익률은 현실에서 찾기가 쉽지 않으므로, 대용으로 \"국공채 수익률\"을 대신 사용. 국공채는 발행자가 \"국가\"로 가장 높은 신용등급을 가진 경제주체\n",
    "- 무위험 수익률을 현재 펀드의 수익률에서 제외해주는 이유는 \"실제 위험에 노출된 수익률\"을 구할 수 잇기 때문\n",
    "- 샤프지수는 높을수록 좋다. 그 이유는 해당 위험에 대해 이를 펀드 가입자가 감내하고 거두는 수익률이 높다는 뜻\n",
    "- 샤프지수의 확인은 펀드평가사(모닝스타코리아, KG제로인 등)에서 확인할 수 있으며, 펀드를 판매하는 은행, 증권사, 보험, 자산운용사에서도 제공.\n",
    "- 샤프지수의 한계는 수익률이 음의 값으로 나올 때, 분자가 마이너스가 나오므로 적용이 어렵다는 점이 있다."
   ]
  }
 ],
 "metadata": {
  "kernelspec": {
   "display_name": "Python 3",
   "language": "python",
   "name": "python3"
  },
  "language_info": {
   "codemirror_mode": {
    "name": "ipython",
    "version": 3
   },
   "file_extension": ".py",
   "mimetype": "text/x-python",
   "name": "python",
   "nbconvert_exporter": "python",
   "pygments_lexer": "ipython3",
   "version": "3.6.1"
  }
 },
 "nbformat": 4,
 "nbformat_minor": 2
}
